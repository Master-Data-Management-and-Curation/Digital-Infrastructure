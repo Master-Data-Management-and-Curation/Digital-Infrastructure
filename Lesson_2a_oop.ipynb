{
 "cells": [
  {
   "cell_type": "markdown",
   "id": "3ec5a998-7c75-4486-82fa-de8f13109da9",
   "metadata": {},
   "source": [
    "# Object Oriented Programming\n",
    "*Author: Marco Prenassi*   \n",
    "*License: Creative Commons CC-BY*   "
   ]
  },
  {
   "cell_type": "markdown",
   "id": "db90b25a-02b4-4c1b-9c10-23ede3e65dfd",
   "metadata": {},
   "source": [
    "## OBJECT ORIENTED PROGRAMMING   \n",
    "*Some basic concepts about classes, objects and why the developer world (mostly) like them*   \n",
    "*Let's define a class, the basic blueprint of our objects*"
   ]
  },
  {
   "cell_type": "markdown",
   "id": "35c26fb3-46b6-4f55-911a-04bf2258a098",
   "metadata": {},
   "source": [
    "#### STARTING GLOSSARY\n",
    "*Let's define what is a class, an object, an attributes, a methods and its parameters:*   "
   ]
  },
  {
   "cell_type": "code",
   "execution_count": 18,
   "id": "3c2e0f8b-f0d8-43e1-b7d8-61be3d97a46c",
   "metadata": {},
   "outputs": [
    {
     "name": "stdout",
     "output_type": "stream",
     "text": [
      "they are not the same object!\n",
      "but they are the same type: <class '__main__.Blueprint'> == <class '__main__.Blueprint'>\n"
     ]
    }
   ],
   "source": [
    "\n",
    "class Blueprint: # Blueprint is the class name\n",
    "    attribute_1 = None # this are the attributes, they live only inside the object!\n",
    "    attribute_2 = None # they represent the STATUS of the object\n",
    "    def method(parameter_1, parameter_2): # this is the \"action\" that the object can do, the parameters are the external input to the object\n",
    "        something = parameter_1 + parameter_2 # this is the real core of the function\n",
    "        return something # the object do something and return a \"value\"\n",
    "\n",
    "# Let's create two objects with the same class:\n",
    "object_1 = Blueprint()\n",
    "object_2 = Blueprint()\n",
    "\n",
    "# Let's check if they are the same object:\n",
    "if(object_1 == object_2):\n",
    "    print(\"they are the same object!\")\n",
    "else:\n",
    "    print(\"they are not the same object!\")\n",
    "# Two cars could be both the same model, have the same accessories, and all the same parameters, but they still are not the same car!\n",
    "# Let's check if they at least are the same class (model, blueprint, etc...)\n",
    "if(type(object_1) == type(object_2)):\n",
    "    print(f\"but they are the same type: {type(object_1)} == {type(object_2)}\")\n",
    "else:\n",
    "    print(\"They are not the same type!\")"
   ]
  },
  {
   "cell_type": "markdown",
   "id": "0b320aa2-87a3-4f80-a67b-2cd36ed2d478",
   "metadata": {},
   "source": [
    "### ENCAPSULATION"
   ]
  },
  {
   "cell_type": "code",
   "execution_count": 19,
   "id": "f2cc1eb4-ecc8-4629-ae83-0a7302f6e679",
   "metadata": {},
   "outputs": [],
   "source": [
    "# define the name of the blueprint (class):\n",
    "class Sample:\n",
    "    # define the attributes, the \"things\" that make an object different to the other\n",
    "    name = None\n",
    "    molecular_weight = None\n",
    "    # define the methods, or the \"action\" that a object can do\n",
    "    def moles(self,weight):\n",
    "        result = weight/self.molecular_weight\n",
    "        return result\n",
    "        "
   ]
  },
  {
   "cell_type": "code",
   "execution_count": 20,
   "id": "f80b425d-7500-44db-9c0b-7874dea44a6d",
   "metadata": {},
   "outputs": [
    {
     "name": "stdout",
     "output_type": "stream",
     "text": [
      "0.22722108611679165\n"
     ]
    }
   ],
   "source": [
    "# Let's create an object with our blueprint, CO2 is a \"Sample\"\n",
    "CO2 = Sample() # <- This misterious function is a constructor see next block!\n",
    "CO2.name = 'Carbon Dioxide'\n",
    "CO2.molecular_weight= 44.01\n",
    "print(CO2.moles(10))"
   ]
  },
  {
   "cell_type": "markdown",
   "id": "b197e358-551b-4244-9aa8-a64da8ccb21b",
   "metadata": {},
   "source": [
    "*A constructor is a special method (function), with the same name of the class, that \"creates\" the object*   \n",
    "*if you do not care too much about the construction of your object, the method is hidden, and accept no parameters, like the one that we used it on the last block*\n",
    "*but constructor are a really useful tool in OOP, so, let's show how can we used one... because we are lazy and we did not want to write 2 additional lines!*   \n",
    "*Let's \"OVERRIDE\" the \"hidden method\", writing the code that we want*   \n",
    "*In Python, the constructor method is defined like this*   "
   ]
  },
  {
   "cell_type": "code",
   "execution_count": 21,
   "id": "bf1440d3-0046-49af-b8e9-f0ea6a5c35cb",
   "metadata": {},
   "outputs": [
    {
     "name": "stdout",
     "output_type": "stream",
     "text": [
      "Carbon Dioxide - molecular weight: 44.01\n"
     ]
    }
   ],
   "source": [
    "class Sample:\n",
    "    name = None\n",
    "    molecular_weight = None\n",
    "    # this is the override of the constructor, instead of zero parameters Sample(), we decide to instantiate two, Sample(name,weight)!\n",
    "    def __init__(self, name, molecular_weight):\n",
    "        self.name = name\n",
    "        self.molecular_weight = molecular_weight\n",
    "\n",
    "    def moles(self,weight):\n",
    "        result = weight/self.molecular_weight\n",
    "        return result\n",
    "\n",
    "CO2 = Sample('Carbon Dioxide', 44.01)\n",
    "print(f\"{CO2.name} - molecular weight: {CO2.molecular_weight}\")"
   ]
  },
  {
   "cell_type": "markdown",
   "id": "f2c66549-833d-4eac-bb33-91cb5dad39ba",
   "metadata": {},
   "source": [
    "### INHERITANCE\n",
    "*Now we want to characterize a little bit only a subset of compounds, adding a minimum storage temperature.*   \n",
    "*The main characteristics remains the same, they are still samples, but we need to add something more, for a subclass of them.*\n",
    "*To do this, we inherit the characteristics from the Parent (the Sample) and add our attribute*"
   ]
  },
  {
   "cell_type": "code",
   "execution_count": 22,
   "id": "b78c2150-4a84-4cd5-a108-b624f2d71dae",
   "metadata": {},
   "outputs": [
    {
     "name": "stdout",
     "output_type": "stream",
     "text": [
      "Benzene - molecular weight: 78.11 - min. Temp.: 0\n",
      "Carbon Dioxide - molecular weight: 44.01\n",
      "C6H6 moles: 0.12802458071949815 and CO2 moles: 0.22722108611679165\n"
     ]
    }
   ],
   "source": [
    "# Extend the new class inheriting the parent\n",
    "class HighTempSample(Sample):\n",
    "    minimum_storage_temperature = 0 # [K]\n",
    "\n",
    "#Let's create a child object:\n",
    "C6H6 = HighTempSample('Benzene', 78.11)\n",
    "print(f\"{C6H6.name} - molecular weight: {C6H6.molecular_weight} - min. Temp.: {C6H6.minimum_storage_temperature}\")\n",
    "print(f\"{CO2.name} - molecular weight: {CO2.molecular_weight}\")\n",
    "print(f\"C6H6 moles: {C6H6.moles(10)} and CO2 moles: {CO2.moles(10)}\")"
   ]
  },
  {
   "cell_type": "markdown",
   "id": "2dea0edc-9df5-42a4-9a15-0f2e81426bf0",
   "metadata": {},
   "source": [
    "*Let's also override the constructor of HighTempSample, to have all the parameter in one place, but without writing everything again!*   \n",
    "*We use the \"super().\\__init\\__()\" method to \"get\" the constructor code from the parent (Sample)*   \n",
    "*if the constructor code of the parent has some parameters (like our case), we have also to put*   \n",
    "args and \\*\\*kwargs, *they are are... put it simply, \"other arguments\", we had to pass them if we have already overridden* \n",
    "*the constructor of the basic class (treat them as a \"magic spell\" to inherit the parent constructor parameter for now)*\n"
   ]
  },
  {
   "cell_type": "code",
   "execution_count": 23,
   "id": "acd1fefa-8f30-436a-a5a8-8baefd758928",
   "metadata": {},
   "outputs": [
    {
     "name": "stdout",
     "output_type": "stream",
     "text": [
      "Benzene - molecular weight: 78.11 - min. Temp.: 270\n"
     ]
    }
   ],
   "source": [
    "class HighTempSample(Sample):\n",
    "    minimum_storage_temperature = 0 # [K]\n",
    " \n",
    "    def __init__(self, minimum_storage_temperature, *args, **kwargs):\n",
    "        super().__init__(*args, **kwargs)\n",
    "        self.minimum_storage_temperature = minimum_storage_temperature\n",
    "C6H6 = HighTempSample(name = 'Benzene', molecular_weight = 78.11, minimum_storage_temperature = 270)\n",
    "print(f\"{C6H6.name} - molecular weight: {C6H6.molecular_weight} - min. Temp.: {C6H6.minimum_storage_temperature}\")\n"
   ]
  },
  {
   "cell_type": "markdown",
   "id": "684c9421-f14d-42d5-a7ae-b91c85ea0ac2",
   "metadata": {},
   "source": [
    "#### CONSTRUCTORS IN DIGITAL DATA MANAGEMENT, SOME CONSIDERATIONS"
   ]
  },
  {
   "cell_type": "code",
   "execution_count": 24,
   "id": "75788a4e-6c5d-493a-ba5c-75129e3710bd",
   "metadata": {},
   "outputs": [
    {
     "name": "stdout",
     "output_type": "stream",
     "text": [
      "The temperature is in Kelvin!\n"
     ]
    }
   ],
   "source": [
    "# Our colleagues live fast and use no turning signals. So we they don't see the # [K] comment in our code\n",
    "# Let's put a stop to this madness\n",
    "class HighTempSample(Sample):\n",
    "    minimum_storage_temperature = 0 # [K]\n",
    " \n",
    "    def __init__(self, minimum_storage_temperature, *args, **kwargs):\n",
    "        super().__init__(*args, **kwargs)\n",
    "        if(minimum_storage_temperature > 0):\n",
    "            self.minimum_storage_temperature = minimum_storage_temperature\n",
    "        else:\n",
    "            raise ValueError(\"The temperature is in Kelvin!\")\n",
    "try:\n",
    "    ReallyFreezingCompound = HighTempSample(name=\"verycold\",molecular_weight=\"1\", minimum_storage_temperature=-19)\n",
    "except ValueError as e: # dev. snippet: catch always the known exceptions, not all of them! Fail better!\n",
    "    print(e)"
   ]
  },
  {
   "cell_type": "code",
   "execution_count": 25,
   "id": "750ce41d-2764-478d-bdc2-10da7c500b2c",
   "metadata": {},
   "outputs": [],
   "source": [
    "# More complex, but real, example:\n",
    "# Let's create an object with our blueprint, CH3CONHC6H4OC2H5 is a \"Sample\"\n",
    "CH3CONHC6H4OC2H5 = Sample('Phenacetin',179.22)\n",
    "# We live a quarter mile at a time\n",
    "Phenacetin = Sample('CH3CONHC6H4OC2H5',179.22)\n",
    "# This is not good, we can use our constructor to impose structure (with text, in this case, is more difficult but far from impossible)"
   ]
  },
  {
   "cell_type": "markdown",
   "id": "a97c7270-4fa5-4a07-8698-f8caf63213af",
   "metadata": {},
   "source": [
    "## ABSTRACTION\n",
    "*Abstraction is a broad concept, it means that we don't need to know everything of our system to actually use it.*   \n",
    "*This interacts with the other concepts at various level (attributes, methods and class level.*   \n",
    "*One of the more interesting application of this concept is that everything could be an object.*   \n",
    "*An attribute could be an object:*"
   ]
  },
  {
   "cell_type": "code",
   "execution_count": 26,
   "id": "01d64e1e-4a0e-41ad-a078-f2b684e35685",
   "metadata": {},
   "outputs": [
    {
     "name": "stdout",
     "output_type": "stream",
     "text": [
      "H2CO3 name: Carbonic Acid - H2CO3 moles: 0.16123831022250887\n"
     ]
    }
   ],
   "source": [
    "class ChemicalReaction:\n",
    "    compound_1 = None\n",
    "    compound_2 = None\n",
    "\n",
    "    def __init__(self, compound_1, compound_2):\n",
    "        self.compound_1 = compound_1\n",
    "        self.compound_2 = compound_2\n",
    "        \n",
    "    def reaction(self):\n",
    "        if(self.compound_1.name == 'Carbon Dioxide') and (self.compound_2.name == 'Water'):\n",
    "            return Sample(name = 'Carbonic Acid', molecular_weight=62.02)\n",
    "        else:\n",
    "            return None\n",
    "\n",
    "H2O = Sample('Water',18.02)\n",
    "friz = ChemicalReaction(CO2,H2O)\n",
    "H2CO3 = friz.reaction()\n",
    "print(f\"H2CO3 name: {H2CO3.name} - H2CO3 moles: {H2CO3.moles(10)}\")        \n",
    "\n"
   ]
  },
  {
   "cell_type": "markdown",
   "id": "7446979c-a4b3-4ca7-a005-3048d559d8fa",
   "metadata": {},
   "source": [
    "## POLYMORPHISM\n",
    "*Objects can mutate internally but retaining the same interface to the outside world.*   \n",
    "*We have seen it with the overriding of the constructors.*   \n",
    "*Case in point, let's improve our ChemicalReaction class:*"
   ]
  },
  {
   "cell_type": "code",
   "execution_count": 27,
   "id": "e4235597-3c43-4cd8-b713-252c4b6e7bfd",
   "metadata": {},
   "outputs": [
    {
     "name": "stdout",
     "output_type": "stream",
     "text": [
      "H2CO3 name: Carbonic Acid - H2CO3 moles: 0.16123831022250887\n",
      "H2CO3 name: Carbonic Acid - H2CO3 moles: 0.16123831022250887\n"
     ]
    }
   ],
   "source": [
    "# ChemicalReaction accepts only CO2 + H2O and not viceversa, let's improve that\n",
    "class BetterChemicalReaction(ChemicalReaction):\n",
    "    # We override only the method that we modify\n",
    "    def reaction(self):\n",
    "        if(((self.compound_1.name == 'Carbon Dioxide') and (self.compound_2.name == 'Water')) \n",
    "           or ((self.compound_1.name == 'Water') and (self.compound_2.name == 'Carbon Dioxide'))):\n",
    "            return Sample(name = 'Carbonic Acid', molecular_weight=62.02)\n",
    "        else:\n",
    "            return None\n",
    "            \n",
    "H2O = Sample('Water',18.02)\n",
    "friz = BetterChemicalReaction(H2O,CO2)\n",
    "friz2 = ChemicalReaction(CO2,H2O)\n",
    "H2CO3 = friz.reaction()\n",
    "print(f\"H2CO3 name: {H2CO3.name} - H2CO3 moles: {H2CO3.moles(10)}\")\n",
    "H2CO3 = friz2.reaction()\n",
    "print(f\"H2CO3 name: {H2CO3.name} - H2CO3 moles: {H2CO3.moles(10)}\")\n"
   ]
  },
  {
   "cell_type": "code",
   "execution_count": 28,
   "id": "bab2e701-fd61-4513-b73b-fe0c241a67bd",
   "metadata": {},
   "outputs": [],
   "source": [
    "class BetterChemicalReaction(ChemicalReaction):\n",
    "    reaction_dict = {'Carbonic Acid':['Carbon Dioxide','Water'],'Ethanol':{'Ethilene','Water'}}\n",
    "    def reaction(self):\n",
    "        pass"
   ]
  },
  {
   "cell_type": "markdown",
   "id": "0bc7633b-5fe7-4898-bf03-47b21ea83177",
   "metadata": {},
   "source": [
    "### SOME EXAMPLES AND EXERCISES"
   ]
  },
  {
   "cell_type": "code",
   "execution_count": 8,
   "id": "90b386db-c10d-4027-b54e-1b0f97cc6eae",
   "metadata": {},
   "outputs": [],
   "source": [
    "# Let's start our engine\n",
    "\n",
    "import sqlalchemy as sql\n",
    "import os\n",
    "engine = sql.create_engine('sqlite:///databases/simple_db.db', echo=True)\n",
    "if not os.path.isdir('databases'):\n",
    "    print(\"directory /databases not found. Making one...\")\n",
    "    !mkdir databases\n",
    "\n",
    "try:\n",
    "    engine.connect().close()\n",
    "    # completely dispose of the connection pool\n",
    "    # engine.dispose()\n",
    "except sql.exc.OperationalError as e:\n",
    "    print(e)\n"
   ]
  },
  {
   "cell_type": "markdown",
   "id": "ba3c24ee-891d-4369-95b0-5b80bc847043",
   "metadata": {},
   "source": [
    "*Create a class that \"eats\" our engine and \"INSERT\" a value into our db!*\n",
    "*first delete our previous db: rm /databases/simple_db.db*"
   ]
  },
  {
   "cell_type": "code",
   "execution_count": 13,
   "id": "44c73d87-26a6-4bf7-8211-fcc24ffd792f",
   "metadata": {},
   "outputs": [],
   "source": [
    "class modded_engine:\n",
    "    engine = None\n",
    "    def __init__(self,engine):\n",
    "        self.engine = engine\n",
    "\n",
    "    def create_table(self):\n",
    "        with engine.connect() as connection:\n",
    "            raw_sql = \"CREATE TABLE IF NOT EXISTS samples\"\n",
    "            raw_sql += \"(sample_id INTEGER PRIMARY KEY, \"\n",
    "            raw_sql += \"weight REAL NOT NULL, \"\n",
    "            raw_sql += \"researcher_id VARCHAR(64))\"\n",
    "            connection.execute(sql.text(raw_sql))\n",
    "            connection.commit()\n",
    "\n",
    "    def insert_into(self,values):\n",
    "        try:\n",
    "            with self.engine.connect() as connection:\n",
    "                raw_sql = f\"INSERT INTO samples (sample_id, weight, researcher_id) VALUES ({values})\"\n",
    "                connection.execute(sql.text(raw_sql))\n",
    "                connection.commit()\n",
    "        except sql.exc.IntegrityError as e:\n",
    "            print(\"\\n--> ERROR: If you see me probably you are violating the primary key constraint, i.e., you are trying to insert a new line with the same pk \\n\")\n",
    "            print(e)\n"
   ]
  },
  {
   "cell_type": "code",
   "execution_count": 16,
   "id": "4218982d-062e-4da3-bdee-1e7410121657",
   "metadata": {},
   "outputs": [
    {
     "name": "stdout",
     "output_type": "stream",
     "text": [
      "2024-10-11 07:11:56,828 INFO sqlalchemy.engine.Engine BEGIN (implicit)\n",
      "2024-10-11 07:11:56,836 INFO sqlalchemy.engine.Engine CREATE TABLE IF NOT EXISTS samples(sample_id INTEGER PRIMARY KEY, weight REAL NOT NULL, researcher_id VARCHAR(64))\n",
      "2024-10-11 07:11:56,838 INFO sqlalchemy.engine.Engine [cached since 115.5s ago] ()\n",
      "2024-10-11 07:11:56,840 INFO sqlalchemy.engine.Engine COMMIT\n",
      "2024-10-11 07:11:56,845 INFO sqlalchemy.engine.Engine BEGIN (implicit)\n",
      "2024-10-11 07:11:56,845 INFO sqlalchemy.engine.Engine INSERT INTO samples (sample_id, weight, researcher_id) VALUES (0, 12.2 ,'joesmith')\n",
      "2024-10-11 07:11:56,846 INFO sqlalchemy.engine.Engine [generated in 0.00156s] ()\n",
      "2024-10-11 07:11:56,847 INFO sqlalchemy.engine.Engine COMMIT\n"
     ]
    }
   ],
   "source": [
    "our_engine = modded_engine(engine)\n",
    "our_engine.create_table()\n",
    "our_engine.insert_into(\"0, 12.2 ,'joesmith'\")"
   ]
  },
  {
   "cell_type": "code",
   "execution_count": null,
   "id": "8ce185c6-80a5-4c93-8786-03d613b32594",
   "metadata": {},
   "outputs": [],
   "source": [
    "# Now we have two objects with different names, even if they are the same class (and, the same compound)\n",
    "# Let's check more thorougly when we create an object, updating our class!"
   ]
  },
  {
   "cell_type": "markdown",
   "id": "f4e1bc74-cfd1-43b5-8a73-3e3725219273",
   "metadata": {},
   "source": [
    "## EXERCISES\n",
    "* Make your little database class, that __init__ your database\n",
    "* Make the classes about a ROW of your data with __init__ that clean the inputs\n",
    "* Make in database class the method that accepts a ROW object and INSERT it into the DATABASE\n",
    "\n"
   ]
  },
  {
   "cell_type": "code",
   "execution_count": null,
   "id": "0ba686b8-3756-473e-945b-736e2b7b7d75",
   "metadata": {},
   "outputs": [],
   "source": []
  }
 ],
 "metadata": {
  "kernelspec": {
   "display_name": "Python 3 (ipykernel)",
   "language": "python",
   "name": "python3"
  },
  "language_info": {
   "codemirror_mode": {
    "name": "ipython",
    "version": 3
   },
   "file_extension": ".py",
   "mimetype": "text/x-python",
   "name": "python",
   "nbconvert_exporter": "python",
   "pygments_lexer": "ipython3",
   "version": "3.11.6"
  }
 },
 "nbformat": 4,
 "nbformat_minor": 5
}
